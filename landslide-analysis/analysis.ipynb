{
 "cells": [
  {
   "cell_type": "code",
   "execution_count": 3,
   "metadata": {},
   "outputs": [
    {
     "name": "stdout",
     "output_type": "stream",
     "text": [
      "|            | 0   |\n",
      "|:-----------|:----|\n",
      "| FID        | 0   |\n",
      "| OBJECTID   | 0   |\n",
      "| Location   | 0   |\n",
      "| State      | 0   |\n",
      "| Water_Cont | 0   |\n",
      "| Material   | 0   |\n",
      "| Damae_Int2 | 0   |\n",
      "| Economic   | 0   |\n",
      "| District   | 0   |\n",
      "| ID         | 0   |\n",
      "| Fail_Type  | 0   |\n",
      "| Date       | 0   |\n",
      "| Distri_    | 0   |\n",
      "| Death_     | 0   |\n",
      "| Settlemet_ | 0   |\n",
      "| Dam_Int1   | 0   |\n",
      "| Area       | 0   |\n",
      "| Triggers_  | 0   |\n",
      "Column 'Location': 0 empty strings\n",
      "Column 'State': 0 empty strings\n",
      "Column 'Water_Cont': 0 empty strings\n",
      "Column 'Material': 0 empty strings\n",
      "Column 'Damae_Int2': 0 empty strings\n",
      "Column 'Economic': 0 empty strings\n",
      "Column 'District': 0 empty strings\n",
      "Column 'Fail_Type': 0 empty strings\n",
      "Column 'Date': 0 empty strings\n",
      "Column 'Distri_': 0 empty strings\n",
      "Column 'Dam_Int1': 0 empty strings\n",
      "Column 'Area': 0 empty strings\n",
      "Column 'Triggers_': 0 empty strings\n"
     ]
    }
   ],
   "source": [
    "import pandas as pd\n",
    "\n",
    "pd.set_option('display.max_rows', None)\n",
    "pd.set_option('display.max_columns', None)\n",
    "\n",
    "# Read the CSV file into a DataFrame\n",
    "df = pd.read_csv('./data/Landslide_Inventory_of_CHA_Corected.csv')\n",
    "\n",
    "# Filter the DataFrame to include only rows where `District` is \"Cox's Bazar\"\n",
    "df_filtered = df[df['District'] == \"Cox's Bazar\"].copy()\n",
    "\n",
    "# Check for missing values in each column\n",
    "missing_values = df_filtered.isnull().sum()\n",
    "\n",
    "# Print the number of missing values per column\n",
    "print(missing_values.to_markdown(numalign=\"left\", stralign=\"left\"))\n",
    "\n",
    "# Check for empty strings in each column\n",
    "for col in df_filtered.columns:\n",
    "    # If the column is of type 'object', check for empty strings\n",
    "    if df_filtered[col].dtype == 'object':\n",
    "        empty_string_count = df_filtered[col][df_filtered[col] == ''].count()\n",
    "        # Print the number of empty strings per column\n",
    "        print(f\"Column '{col}': {empty_string_count} empty strings\")"
   ]
  },
  {
   "cell_type": "code",
   "execution_count": null,
   "metadata": {},
   "outputs": [],
   "source": []
  }
 ],
 "metadata": {
  "kernelspec": {
   "display_name": "Python 3",
   "language": "python",
   "name": "python3"
  },
  "language_info": {
   "codemirror_mode": {
    "name": "ipython",
    "version": 3
   },
   "file_extension": ".py",
   "mimetype": "text/x-python",
   "name": "python",
   "nbconvert_exporter": "python",
   "pygments_lexer": "ipython3",
   "version": "3.9.7"
  }
 },
 "nbformat": 4,
 "nbformat_minor": 2
}
