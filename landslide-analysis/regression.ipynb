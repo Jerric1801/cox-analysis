{
 "cells": [
  {
   "cell_type": "code",
   "execution_count": 6,
   "metadata": {},
   "outputs": [],
   "source": [
    "import pandas as pd\n",
    "from sklearn.model_selection import train_test_split\n",
    "from sklearn.preprocessing import StandardScaler, OneHotEncoder\n",
    "from sklearn.compose import ColumnTransformer\n",
    "from sklearn.pipeline import Pipeline\n",
    "\n",
    "# Load your dataset\n",
    "df = pd.read_csv('./data/cox_landslide_renamed.csv')\n",
    "\n",
    "# 1. Create the target variable (assuming 'Landslide_ID' indicates landslide occurrence)\n",
    "df['Landslide_Occurred'] = df['Landslide_ID'].notna().astype(int)  \n",
    "\n",
    "# 2. Select features and target\n",
    "X = df[['Elevation (m)', 'General_slope (degree)', \n",
    "        'Flow_accumulation_10yr_multiplied_log', 'Flow_accumulation_20yr_multiplied_log', \n",
    "        'Flow_accumulation_50yr_multiplied_log', 'Runoff_10yr', 'Runoff_20yr', \n",
    "        'Runoff_50yr', 'Slope_classification', 'Flow_direction', 'Material', \n",
    "        'Movement_type', 'State', 'Distribution', 'Style']]\n",
    "y = df['Landslide_Occurred']\n",
    "\n",
    "# 3. Split data into training and testing sets\n",
    "X_train, X_test, y_train, y_test = train_test_split(X, y, test_size=0.2, random_state=42)\n",
    "\n",
    "# 4. Preprocessing pipeline\n",
    "#  - Identify numerical and categorical features\n",
    "numeric_features = ['Elevation (m)', 'General_slope (degree)', \n",
    "                    'Flow_accumulation_10yr_multiplied_log', 'Flow_accumulation_20yr_multiplied_log', \n",
    "                    'Flow_accumulation_50yr_multiplied_log', 'Runoff_10yr', 'Runoff_20yr', \n",
    "                    'Runoff_50yr', 'Flow_direction']  # Assuming 'Flow_direction' is numerical\n",
    "categorical_features = ['Slope_classification', 'Material', 'Movement_type', 'State', 'Distribution', 'Style']\n",
    "\n",
    "#  - Create transformers\n",
    "numeric_transformer = Pipeline(steps=[\n",
    "    ('scaler', StandardScaler())  # Standardize numerical features\n",
    "])\n",
    "\n",
    "categorical_transformer = Pipeline(steps=[\n",
    "    ('onehot', OneHotEncoder(handle_unknown='ignore'))  # One-hot encode categorical features\n",
    "])\n",
    "\n",
    "#  - Combine transformers using ColumnTransformer\n",
    "preprocessor = ColumnTransformer(\n",
    "    transformers=[\n",
    "        ('num', numeric_transformer, numeric_features),\n",
    "        ('cat', categorical_transformer, categorical_features)\n",
    "    ])\n",
    "\n",
    "# 5.  Fit and transform the data\n",
    "X_train = preprocessor.fit_transform(X_train)\n",
    "X_test = preprocessor.transform(X_test)"
   ]
  },
  {
   "cell_type": "code",
   "execution_count": 7,
   "metadata": {},
   "outputs": [
    {
     "name": "stdout",
     "output_type": "stream",
     "text": [
      "[[-0.46260523 -0.69912651 -0.83691944 ...  0.          0.\n",
      "   1.        ]\n",
      " [-0.21141687 -0.52912614 -0.83691944 ...  0.          0.\n",
      "   1.        ]\n",
      " [-0.37887578 -0.27412559 -0.83691944 ...  0.          0.\n",
      "   1.        ]\n",
      " ...\n",
      " [-0.37887578 -0.52912614 -0.83691944 ...  0.          0.\n",
      "   1.        ]\n",
      " [-0.57982647 -1.12412742 -0.87108539 ...  0.          0.\n",
      "   1.        ]\n",
      " [ 0.12350094  1.42587807 -0.83691944 ...  0.          0.\n",
      "   1.        ]]\n"
     ]
    }
   ],
   "source": [
    "print(X_train)"
   ]
  },
  {
   "cell_type": "code",
   "execution_count": null,
   "metadata": {},
   "outputs": [],
   "source": []
  }
 ],
 "metadata": {
  "kernelspec": {
   "display_name": "Python 3",
   "language": "python",
   "name": "python3"
  },
  "language_info": {
   "codemirror_mode": {
    "name": "ipython",
    "version": 3
   },
   "file_extension": ".py",
   "mimetype": "text/x-python",
   "name": "python",
   "nbconvert_exporter": "python",
   "pygments_lexer": "ipython3",
   "version": "3.9.7"
  }
 },
 "nbformat": 4,
 "nbformat_minor": 2
}
