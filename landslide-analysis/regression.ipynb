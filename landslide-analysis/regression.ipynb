{
 "cells": [
  {
   "cell_type": "code",
   "execution_count": 2,
   "metadata": {},
   "outputs": [
    {
     "name": "stdout",
     "output_type": "stream",
     "text": [
      "| Landslide_   | Camp_name   | Latitude   | Longitude   | Elevation   | Date_of_mo   | General_sl   | Slided_slo   | Width (m)   | Length_pre   | Length_aft   | Depth (m)   | Material      | Movement_t   | State      | Distributi           | Style      | accumulati   | accumula_1   | accumula_2   | slope_clas   | flow_direc   | 10yr_runof   | 20yr_runof   | 50yr_runof   | fill_sinks   | basins1   |\n",
      "|:-------------|:------------|:-----------|:------------|:------------|:-------------|:-------------|:-------------|:------------|:-------------|:-------------|:------------|:--------------|:-------------|:-----------|:---------------------|:-----------|:-------------|:-------------|:-------------|:-------------|:-------------|:-------------|:-------------|:-------------|:-------------|:----------|\n",
      "| 1            | 20          | 21.1954    | 92.1378     | 13          | 2020         | 40           | 60           | 19          | 24           | 19           | 13          | Soil or Earth | Slide        | Active     | Advancing, Enlarging | Successive | 6.33712      | 6.41938      | 6.52328      | 2            | 0            | 1322.19      | 1597.94      | 2029.82      | 22           | 161       |\n",
      "| 2            | 20          | 21.1954    | 92.1379     | 3.8         | 2020         | 24           | 35           | 12          | 8.3          | 6.1          | 3.8         | Soil or Earth | Slide        | Active     | Advancing, Enlarging | Successive | 6.33712      | 7.6235       | 7.7274       | 2            | 0            | 1322.19      | 1597.94      | 2029.82      | 21           | 161       |\n",
      "| 3            | 20          | 21.1951    | 92.1382     | 3.5         | 2020         | 22           | 30           | 10          | 10           | 8            | 3.5         | Soil or Earth | Slide        | Active     | Advancing, Enlarging | Successive | 6.03609      | 6.41938      | 6.52328      | 2            | 0            | 1322.19      | 1597.94      | 2029.82      | 25           | 161       |\n",
      "| 4            | 20          | 21.1951    | 92.1379     | 8           | 2020         | 22           | 30           | 11          | 15           | 12           | 4.5         | Soil or Earth | Slide        | Active     | Advancing, Enlarging | Successive | 6.03609      | 6.11835      | 6.22225      | 1            | 0            | 1322.19      | 1597.94      | 2029.82      | 25           | 161       |\n",
      "| 5            | 20          | 21.1916    | 92.1379     | 6           | 2019         | 30           | 40           | 18          | 16           | 13           | 6           | Soil or Earth | Slide        | Stabilized | Confined             | Successive | 6.51321      | 6.59547      | 6.69937      | 1            | 3            | 1322.19      | 1597.94      | 2029.82      | 23           | 161       |\n",
      "<class 'pandas.core.frame.DataFrame'>\n",
      "RangeIndex: 150 entries, 0 to 149\n",
      "Data columns (total 27 columns):\n",
      " #   Column      Non-Null Count  Dtype  \n",
      "---  ------      --------------  -----  \n",
      " 0   Landslide_  150 non-null    int64  \n",
      " 1   Camp_name   150 non-null    object \n",
      " 2   Latitude    150 non-null    float64\n",
      " 3   Longitude   150 non-null    float64\n",
      " 4   Elevation   150 non-null    float64\n",
      " 5   Date_of_mo  150 non-null    object \n",
      " 6   General_sl  150 non-null    int64  \n",
      " 7   Slided_slo  150 non-null    int64  \n",
      " 8   Width (m)   150 non-null    float64\n",
      " 9   Length_pre  150 non-null    float64\n",
      " 10  Length_aft  150 non-null    float64\n",
      " 11  Depth (m)   150 non-null    float64\n",
      " 12  Material    150 non-null    object \n",
      " 13  Movement_t  150 non-null    object \n",
      " 14  State       150 non-null    object \n",
      " 15  Distributi  150 non-null    object \n",
      " 16  Style       150 non-null    object \n",
      " 17  accumulati  150 non-null    float64\n",
      " 18  accumula_1  150 non-null    float64\n",
      " 19  accumula_2  150 non-null    float64\n",
      " 20  slope_clas  150 non-null    float64\n",
      " 21  flow_direc  150 non-null    float64\n",
      " 22  10yr_runof  150 non-null    float64\n",
      " 23  20yr_runof  150 non-null    float64\n",
      " 24  50yr_runof  150 non-null    float64\n",
      " 25  fill_sinks  150 non-null    float64\n",
      " 26  basins1     150 non-null    float64\n",
      "dtypes: float64(17), int64(3), object(7)\n",
      "memory usage: 31.8+ KB\n",
      "None\n"
     ]
    }
   ],
   "source": [
    "import pandas as pd\n",
    "import os\n",
    "\n",
    "pd.set_option('display.max_rows', None)\n",
    "pd.set_option('display.max_columns', None)\n",
    "\n",
    "# Read the CSV file into a DataFrame\n",
    "df = pd.read_csv('./data/cox_landslide_combined.csv')\n",
    "\n",
    "# Remove columns where all values are null\n",
    "df.dropna(axis=1, how='all', inplace=True)\n",
    "\n",
    "# Create the 'out' folder if it doesn't exist\n",
    "if not os.path.exists('out'):\n",
    "    os.makedirs('out')\n",
    "\n",
    "# Write the remaining header names to a text file\n",
    "with open('out/remaining_headers.txt', 'w') as f:\n",
    "    for col in df.columns:\n",
    "        f.write(col + '\\n')\n",
    "\n",
    "# Display the first 5 rows of the cleaned DataFrame\n",
    "print(df.head().to_markdown(index=False, numalign=\"left\", stralign=\"left\"))\n",
    "\n",
    "# Print the column names and their data types of the cleaned DataFrame\n",
    "print(df.info())"
   ]
  },
  {
   "cell_type": "code",
   "execution_count": null,
   "metadata": {},
   "outputs": [],
   "source": []
  }
 ],
 "metadata": {
  "kernelspec": {
   "display_name": "Python 3",
   "language": "python",
   "name": "python3"
  },
  "language_info": {
   "codemirror_mode": {
    "name": "ipython",
    "version": 3
   },
   "file_extension": ".py",
   "mimetype": "text/x-python",
   "name": "python",
   "nbconvert_exporter": "python",
   "pygments_lexer": "ipython3",
   "version": "3.9.7"
  }
 },
 "nbformat": 4,
 "nbformat_minor": 2
}
