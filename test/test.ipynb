{
 "cells": [
  {
   "cell_type": "code",
   "execution_count": 4,
   "metadata": {},
   "outputs": [],
   "source": [
    "def compare_flood_routes(route1, route2):\n",
    "  \"\"\"\n",
    "  Compares two flood evacuation routes and identifies the differences.\n",
    "\n",
    "  Args:\n",
    "    route1: The first evacuation route (list of locations).\n",
    "    route2: The second evacuation route (list of locations).\n",
    "\n",
    "  Returns:\n",
    "    A dictionary containing:\n",
    "      - difference_count: The number of different waypoints.\n",
    "      - route_deviation: A list of tuples, each representing a deviation \n",
    "                         with (index, location1, location2), where index is \n",
    "                         the point of deviation and location1/location2 are \n",
    "                         the different locations in each route.\n",
    "  \"\"\"\n",
    "  difference_count = 0\n",
    "  route_deviation = []\n",
    "\n",
    "  # Determine the length of the shorter route\n",
    "  min_length = min(len(route1), len(route2))\n",
    "\n",
    "  # Compare locations at corresponding indices\n",
    "  for i in range(min_length):\n",
    "    if route1[i] != route2[i]:\n",
    "      difference_count += 1\n",
    "      route_deviation.append((i, route1[i], route2[i]))\n",
    "\n",
    "  # Account for different route lengths\n",
    "  if len(route1) > len(route2):\n",
    "    difference_count += len(route1) - len(route2)\n",
    "    for i in range(min_length, len(route1)):\n",
    "      route_deviation.append((i, route1[i], None))\n",
    "  elif len(route2) > len(route1):\n",
    "    difference_count += len(route2) - len(route1)\n",
    "    for i in range(min_length, len(route2)):\n",
    "      route_deviation.append((i, None, route2[i]))\n",
    "\n",
    "  return {\n",
    "      \"difference_count\": difference_count,\n",
    "      \"route_deviation\": route_deviation,\n",
    "  }"
   ]
  },
  {
   "cell_type": "code",
   "execution_count": 10,
   "metadata": {},
   "outputs": [
    {
     "name": "stdout",
     "output_type": "stream",
     "text": [
      "Route Deviation Analysis:\n",
      "The routes are identical.\n"
     ]
    }
   ],
   "source": [
    "route1 = [62045, 62508, 59381, 57104, 57103, 57492, 61897, 57226, 57225, 57448, 56989, 57140, 57445, 56985, 57353, 59378, 57355, 50340, 50344, 53075, 50345, 21900, 19289, 57164, 21886, 57060, 21881, 57065, 57119, 57068, 57111, 57109, 50168, 50165, 50161, 50157, 50151, 19988, 50176, 50128, 50133, 50137, 50140, 52645, 52649, 52652, 56281, 56285, 56286, 56297, 56301, 56304, 56309, 56313, 56312, 54420, 52991, 52993, 52997, 52996, 52985, 52989, 59193, 59244, 60383, 60601, 18112, 18105, 54157, 18097, 60607, 60613, 60619, 60620, 61061, 61055, 61065, 61064, 62175, 24028, 51758, 51760, 51761, 52786, 52793, 52801, 52802, 52800, 52799, 23997, 23992, 42500, 24117, 12621, 52784, 12383, 24113, 11984, 12081, 51497, 12085, 63874, 49412, 53941, 12073, 55533, 48895, 48896, 55545, 55548, 55549, 12880, 12877, 15831, 15830, 12268, 12259, 12245, 49641, 12253, 49691, 12256, 13663, 49687, 49683, 15164, 15165, 49679, 15161, 14644, 15168, 12232, 49972, 12226, 14498, 14497, 14185, 13069, 13068, 15263, 15275, 13205, 13180, 15269, 15300, 15301, 15304, 15303, 15953, 15957, 12645, 16125, 12799, 12792, 16289, 16182, 16184, 16190, 16192, 31073, 30685, 30683, 30707, 31080, 30717, 63976, 30725, 30724, 62860, 62864]\n",
    "route2 = [62045, 62508, 59381, 57104, 57103, 57492, 61897, 57226, 57225, 57448, 56989, 57140, 57445, 56985, 57353, 59378, 57355, 50340, 50344, 53075, 50345, 21900, 19289, 57164, 21886, 57060, 21881, 57065, 57119, 57068, 57111, 57109, 50168, 50165, 50161, 50157, 50151, 19988, 50176, 50128, 50133, 50137, 50140, 52645, 52649, 52652, 56281, 56285, 56286, 56297, 56301, 56304, 56309, 56313, 56312, 54420, 52991, 52993, 52997, 52996, 52985, 52989, 59193, 59244, 60383, 60601, 18112, 18105, 54157, 18097, 60607, 60613, 60619, 60620, 61061, 61055, 61065, 61064, 62175, 24028, 51758, 51760, 51761, 52786, 52793, 52801, 52802, 52800, 52799, 23997, 23992, 42500, 24117, 12621, 52784, 12383, 24113, 11984, 12081, 51497, 12085, 63874, 49412, 53941, 12073, 55533, 48895, 48896, 55545, 55548, 55549, 12880, 12877, 15831, 15830, 12268, 12259, 12245, 49641, 12253, 49691, 12256, 13663, 49687, 49683, 15164, 15165, 49679, 15161, 14644, 15168, 12232, 49972, 12226, 14498, 14497, 14185, 13069, 13068, 15263, 15275, 13205, 13180, 15269, 15300, 15301, 15304, 15303, 15953, 15957, 12645, 16125, 12799, 12792, 16289, 16182, 16184, 16190, 16192, 31073, 30685, 30683, 30707, 31080, 30717, 63976, 30725, 30724, 62860, 62864]\n",
    "\n",
    "result = compare_flood_routes(route1, route2)\n",
    "\n",
    "print(\"Route Deviation Analysis:\")\n",
    "if result[\"difference_count\"] == 0:\n",
    "  print(\"The routes are identical.\")\n",
    "else:\n",
    "  print(f\"There are {result['difference_count']} deviations between the routes:\")\n",
    "  for index, loc1, loc2 in result[\"route_deviation\"]:\n",
    "    if loc2 is None:\n",
    "      print(f\"  - At waypoint {index+1}, route1 goes to {loc1} while route2 ends.\")\n",
    "    elif loc1 is None:\n",
    "      print(f\"  - At waypoint {index+1}, route1 ends while route2 goes to {loc2}.\")\n",
    "    else:\n",
    "      print(f\"  - At waypoint {index+1}, route1 goes to {loc1} while route2 goes to {loc2}.\")\n",
    "\n",
    "  # Example interpretation based on difference count\n",
    "  if result[\"difference_count\"] > len(route1) / 2:\n",
    "    print(\"\\nThe routes are significantly different, indicating a major change in evacuation strategy.\")\n",
    "  else:\n",
    "    print(\"\\nThe routes have some deviations, suggesting moderate adjustments in the evacuation plan.\")"
   ]
  },
  {
   "cell_type": "code",
   "execution_count": null,
   "metadata": {},
   "outputs": [],
   "source": []
  },
  {
   "cell_type": "code",
   "execution_count": null,
   "metadata": {},
   "outputs": [],
   "source": []
  }
 ],
 "metadata": {
  "kernelspec": {
   "display_name": "Python 3",
   "language": "python",
   "name": "python3"
  },
  "language_info": {
   "codemirror_mode": {
    "name": "ipython",
    "version": 3
   },
   "file_extension": ".py",
   "mimetype": "text/x-python",
   "name": "python",
   "nbconvert_exporter": "python",
   "pygments_lexer": "ipython3",
   "version": "3.9.7"
  }
 },
 "nbformat": 4,
 "nbformat_minor": 2
}
