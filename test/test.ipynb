{
 "cells": [
  {
   "cell_type": "code",
   "execution_count": 4,
   "metadata": {},
   "outputs": [],
   "source": [
    "def compare_flood_routes(route1, route2):\n",
    "  \"\"\"\n",
    "  Compares two flood evacuation routes and identifies the differences.\n",
    "\n",
    "  Args:\n",
    "    route1: The first evacuation route (list of locations).\n",
    "    route2: The second evacuation route (list of locations).\n",
    "\n",
    "  Returns:\n",
    "    A dictionary containing:\n",
    "      - difference_count: The number of different waypoints.\n",
    "      - route_deviation: A list of tuples, each representing a deviation \n",
    "                         with (index, location1, location2), where index is \n",
    "                         the point of deviation and location1/location2 are \n",
    "                         the different locations in each route.\n",
    "  \"\"\"\n",
    "  difference_count = 0\n",
    "  route_deviation = []\n",
    "\n",
    "  # Determine the length of the shorter route\n",
    "  min_length = min(len(route1), len(route2))\n",
    "\n",
    "  # Compare locations at corresponding indices\n",
    "  for i in range(min_length):\n",
    "    if route1[i] != route2[i]:\n",
    "      difference_count += 1\n",
    "      route_deviation.append((i, route1[i], route2[i]))\n",
    "\n",
    "  # Account for different route lengths\n",
    "  if len(route1) > len(route2):\n",
    "    difference_count += len(route1) - len(route2)\n",
    "    for i in range(min_length, len(route1)):\n",
    "      route_deviation.append((i, route1[i], None))\n",
    "  elif len(route2) > len(route1):\n",
    "    difference_count += len(route2) - len(route1)\n",
    "    for i in range(min_length, len(route2)):\n",
    "      route_deviation.append((i, None, route2[i]))\n",
    "\n",
    "  return {\n",
    "      \"difference_count\": difference_count,\n",
    "      \"route_deviation\": route_deviation,\n",
    "  }"
   ]
  },
  {
   "cell_type": "code",
   "execution_count": 5,
   "metadata": {},
   "outputs": [
    {
     "name": "stdout",
     "output_type": "stream",
     "text": [
      "Number of waypoints, Route 1: 141\n",
      "Number of waypoints, Route 2: 141\n",
      "\n",
      "Route Deviation Analysis:\n",
      "There are 11 deviations between the routes:\n",
      "  - At waypoint 78, route1 goes to 13160 while route2 goes to 54844.\n",
      "  - At waypoint 79, route1 goes to 49821 while route2 goes to 54845.\n",
      "  - At waypoint 80, route1 goes to 49823 while route2 goes to 15229.\n",
      "  - At waypoint 81, route1 goes to 14648 while route2 goes to 15253.\n",
      "  - At waypoint 82, route1 goes to 14649 while route2 goes to 15248.\n",
      "  - At waypoint 83, route1 goes to 15657 while route2 goes to 15244.\n",
      "  - At waypoint 84, route1 goes to 14225 while route2 goes to 15234.\n",
      "  - At waypoint 85, route1 goes to 14485 while route2 goes to 15185.\n",
      "  - At waypoint 86, route1 goes to 14933 while route2 goes to 15785.\n",
      "  - At waypoint 87, route1 goes to 14928 while route2 goes to 15628.\n",
      "  - At waypoint 88, route1 goes to 15757 while route2 goes to 15768.\n"
     ]
    }
   ],
   "source": [
    "route1 = [63732, 24441, 24437, 1773, 3017, 3012, 55190, 55196, 24415, 3037, 3036, 1223, 50563, 58225, 1237, 3060, 3061, 3055, 3099, 3100, 24642, 24641, 1309, 3077, 1260, 1264, 1265, 1272, 1276, 3729, 50593, 1246, 10313, 10413, 38687, 11413, 63655, 38681, 33525, 33651, 10335, 10333, 10329, 5469, 5468, 5477, 56707, 56712, 56716, 56720, 56721, 56733, 56732, 56729, 56744, 56748, 64031, 14288, 14285, 56683, 14845, 50936, 51173, 14481, 56685, 14237, 56689, 56693, 50373, 56700, 56701, 15303, 15304, 15301, 15300, 13168, 15221, 13160, 49821, 49823, 14648, 14649, 15657, 14225, 14485, 14933, 14928, 15757, 15767, 15761, 14541, 14545, 14876, 14803, 14808, 14813, 14537, 14539, 49820, 49817, 62815, 63894, 11757, 11753, 11743, 54976, 45029, 40281, 41744, 41749, 40534, 40536, 43145, 43151, 45519, 59893, 47000, 50545, 47027, 58380, 58385, 45593, 46605, 46653, 46656, 46645, 46644, 51817, 51921, 46149, 46148, 46155, 51865, 45732, 45727, 45724, 51716, 51657, 51689, 46144, 63757]\n",
    "route2 = [63732, 24441, 24437, 1773, 3017, 3012, 55190, 55196, 24415, 3037, 3036, 1223, 50563, 58225, 1237, 3060, 3061, 3055, 3099, 3100, 24642, 24641, 1309, 3077, 1260, 1264, 1265, 1272, 1276, 3729, 50593, 1246, 10313, 10413, 38687, 11413, 63655, 38681, 33525, 33651, 10335, 10333, 10329, 5469, 5468, 5477, 56707, 56712, 56716, 56720, 56721, 56733, 56732, 56729, 56744, 56748, 64031, 14288, 14285, 56683, 14845, 50936, 51173, 14481, 56685, 14237, 56689, 56693, 50373, 56700, 56701, 15303, 15304, 15301, 15300, 13168, 15221, 54844, 54845, 15229, 15253, 15248, 15244, 15234, 15185, 15785, 15628, 15768, 15767, 15761, 14541, 14545, 14876, 14803, 14808, 14813, 14537, 14539, 49820, 49817, 62815, 63894, 11757, 11753, 11743, 54976, 45029, 40281, 41744, 41749, 40534, 40536, 43145, 43151, 45519, 59893, 47000, 50545, 47027, 58380, 58385, 45593, 46605, 46653, 46656, 46645, 46644, 51817, 51921, 46149, 46148, 46155, 51865, 45732, 45727, 45724, 51716, 51657, 51689, 46144, 63757]\n",
    "\n",
    "result = compare_flood_routes(route1, route2)\n",
    "\n",
    "print(f\"Number of waypoints, Route 1: {len(route1)}\")\n",
    "print(f\"Number of waypoints, Route 2: {len(route2)}\")\n",
    "\n",
    "print(\"\\nRoute Deviation Analysis:\")\n",
    "if result[\"difference_count\"] == 0:\n",
    "  print(\"The routes are identical.\")\n",
    "else:\n",
    "  print(f\"There are {result['difference_count']} deviations between the routes:\")\n",
    "  for index, loc1, loc2 in result[\"route_deviation\"]:\n",
    "    if loc2 is None:\n",
    "      print(f\"  - At waypoint {index+1}, route1 goes to {loc1} while route2 ends.\")\n",
    "    elif loc1 is None:\n",
    "      print(f\"  - At waypoint {index+1}, route1 ends while route2 goes to {loc2}.\")\n",
    "    else:\n",
    "      print(f\"  - At waypoint {index+1}, route1 goes to {loc1} while route2 goes to {loc2}.\")"
   ]
  },
  {
   "cell_type": "code",
   "execution_count": null,
   "metadata": {},
   "outputs": [],
   "source": []
  },
  {
   "cell_type": "code",
   "execution_count": null,
   "metadata": {},
   "outputs": [],
   "source": []
  }
 ],
 "metadata": {
  "kernelspec": {
   "display_name": "Python 3",
   "language": "python",
   "name": "python3"
  },
  "language_info": {
   "codemirror_mode": {
    "name": "ipython",
    "version": 3
   },
   "file_extension": ".py",
   "mimetype": "text/x-python",
   "name": "python",
   "nbconvert_exporter": "python",
   "pygments_lexer": "ipython3",
   "version": "3.9.7"
  }
 },
 "nbformat": 4,
 "nbformat_minor": 2
}
